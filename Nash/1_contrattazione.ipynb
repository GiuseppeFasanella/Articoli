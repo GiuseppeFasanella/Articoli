{
 "cells": [
  {
   "cell_type": "code",
   "execution_count": 1,
   "metadata": {},
   "outputs": [],
   "source": [
    "#Dal problema della contrattazione di Nash\n",
    "# pag. 42 Giochi Non cooperativi, ed. Zanichelli\n",
    "import pandas as pd\n",
    "import matplotlib.pyplot as plt"
   ]
  },
  {
   "cell_type": "code",
   "execution_count": 2,
   "metadata": {},
   "outputs": [
    {
     "name": "stdout",
     "output_type": "stream",
     "text": [
      "0\n",
      "0\n"
     ]
    }
   ],
   "source": [
    "#1. Contrattazione con baratto, SENZA denaro\n",
    "Bill_goods_ini = ['Libro', 'Frusta', 'Palla', 'Mazza', 'Scatola']\n",
    "Jack_goods_ini = ['Penna', 'Giocattolo', 'Coltellino', 'Berretto']\n",
    "\n",
    "all_goods = Bill_goods_ini + Jack_goods_ini\n",
    "\n",
    "#Utilita' del singolo bene per Bill\n",
    "u = {}\n",
    "u['Bill'] = {}\n",
    "u['Bill']['Libro'] = 2\n",
    "u['Bill']['Frusta'] = 2\n",
    "u['Bill']['Palla'] = 2\n",
    "u['Bill']['Mazza'] = 2\n",
    "u['Bill']['Scatola'] = 4\n",
    "u['Bill']['Penna'] = 10\n",
    "u['Bill']['Giocattolo'] = 4\n",
    "u['Bill']['Coltellino'] = 6\n",
    "u['Bill']['Berretto'] = 2\n",
    "\n",
    "#Utilita' del singolo bene per Jack\n",
    "u['Jack'] = {}\n",
    "u['Jack']['Libro'] = 4\n",
    "u['Jack']['Frusta'] = 2\n",
    "u['Jack']['Palla'] = 1\n",
    "u['Jack']['Mazza'] = 2\n",
    "u['Jack']['Scatola'] = 1\n",
    "u['Jack']['Penna'] = 1\n",
    "u['Jack']['Giocattolo'] = 1\n",
    "u['Jack']['Coltellino'] = 2\n",
    "u['Jack']['Berretto'] = 2\n",
    "\n",
    "#La funzione utilita' totale (U) per il singolo giocatore (Bill/Jack) e' definita come\n",
    "#la somma delle utilita' singole (u) dei beni posseduti da Bill/Jack \n",
    "#l'utilità è definita a meno di un offset b e di un fattore moltiplicativo a\n",
    "#U_bill = a*(sum_i u_Bill(i)) + b (1)\n",
    "\n",
    "# L'offset b puo' essere fissato dicendo che,se la contrazione non avviene,\n",
    "# le parti rimangono con i beni iniziali: \n",
    "# ergo io voglio che U(beni iniziali, giocatore) = 0\n",
    "\n",
    "b = {}\n",
    "b['Bill']=0\n",
    "for i in Bill_goods_ini:\n",
    "  b['Bill']-=u['Bill'][i]\n",
    "\n",
    "b['Jack'] = 0\n",
    "for i in Jack_goods_ini:\n",
    " b['Jack']-=u['Jack'][i]\n",
    "\n",
    "# Percio'\n",
    "# U_Bill = sum_i u_bill(i) +b[Bill]\n",
    "# U_Jack = sum_i u_jack(i) +b[Jack]\n",
    "# In modo che U_Bill(ini) = U_Jack(ini) = 0\n",
    "\n",
    "def compute_U(goods_list, person):\n",
    "  # Dati i beni posseduti e il valore che la persona\n",
    "  # attribuisce loro, calcola la Utilita' totale dei beni \n",
    "  # scalata in modo che sia zero per non contrattazione\n",
    "  U=0\n",
    "  for i in goods_list:\n",
    "    U+=u[person][i]\n",
    "  U+=b[person]\n",
    "  return U\n",
    "\n",
    "##Check Calibration\n",
    "print(compute_U(Bill_goods_ini,'Bill')) #-->0\n",
    "print(compute_U(Jack_goods_ini,'Jack')) #-->0"
   ]
  },
  {
   "cell_type": "code",
   "execution_count": null,
   "metadata": {},
   "outputs": [],
   "source": [
    "#2. Definire tutti i possibili esiti della contrattazione\n",
    "\n",
    "# Io ho tutti i beni a disposizione: quelli di Bill e di Jack assieme\n",
    "# Devo ripartirli in tutti i modi possibili tra i due giocatori.\n",
    "# Percio', semplicemente, prendo tutti i beni e listo tutte le combinazioni di 1,2, ... N elementi \n",
    "# Le assegno al \"giocatore1\"; il \"giocatore2\" prende il resto\n",
    "\n",
    "from itertools import combinations \n",
    "\n",
    "outcome_1 = [] #tutti i possibili outcome per il giocatore 1 (generico)\n",
    "for i in range(len(all_goods)+1):\n",
    "  outcome_1+=list(combinations(all_goods, i))\n",
    "\n",
    "outcome_2 = []\n",
    "for out_1 in outcome_1:\n",
    "  out_2 = list(set(all_goods) - set(out_1))\n",
    "  #[el for el in all_goods if el not in out_1]\n",
    "  #outcome_2.append(tuple(out_2))\n",
    "  outcome_2.append(out_2)\n",
    "  assert len(out_1)+len(out_2) == len(all_goods)\n",
    "\n",
    "assert len(outcome_1) == len(outcome_2)\n",
    "print(\"Ci sono: \"+str(len(outcome_1)*2)+\" esiti possibili per la contrattazione.\")\n",
    "# Perché quel *2? Ma perché il giocatore1 puo' essere Bill o Jack e il giocatore2 di conseguenza."
   ]
  },
  {
   "cell_type": "code",
   "execution_count": 54,
   "metadata": {},
   "outputs": [
    {
     "name": "stdout",
     "output_type": "stream",
     "text": [
      "****\n",
      "Max value for u_bill * u_jac :* 60\n",
      "The max is found when utilities are:  (12, 5)\n",
      "The configurations of goods for Bill/Jack resulting in the above utility are:\n",
      "[(('Scatola', 'Penna', 'Giocattolo', 'Coltellino'), ('Frusta', 'Libro', 'Mazza', 'Berretto', 'Palla'))]\n",
      "Bill ha dato a Jack:  {'Frusta', 'Palla', 'Libro', 'Mazza'}\n",
      "Jack ha dato a Bill:  {'Penna', 'Giocattolo', 'Coltellino'}\n"
     ]
    },
    {
     "data": {
      "text/plain": [
       "<matplotlib.collections.PathCollection at 0x7f43a8c931d0>"
      ]
     },
     "execution_count": 54,
     "metadata": {},
     "output_type": "execute_result"
    },
    {
     "data": {
      "image/png": "[encoded data removed]",
      "text/plain": [
       "<Figure size 432x288 with 1 Axes>"
      ]
     },
     "metadata": {
      "needs_background": "light"
     },
     "output_type": "display_data"
    },
    {
     "data": {
      "image/png": "[encoded data removed]",
      "text/plain": [
       "<Figure size 432x288 with 1 Axes>"
      ]
     },
     "metadata": {
      "needs_background": "light"
     },
     "output_type": "display_data"
    }
   ],
   "source": [
    "from collections import defaultdict\n",
    "#3. Calcolare le funzioni di utilita' totale (U) associate a ogni possibile outcome\n",
    "U_inverse_map=defaultdict(list)\n",
    "for i in range(len(outcome_1)):\n",
    "    ## eccolo qua il fattore 2 in evidenza\n",
    "    #U_map[(tuple(outcome_1[i]),tuple(outcome_2[i]))] = (compute_U(outcome_1[i],'Bill'),compute_U(outcome_2[i],'Jack'))\n",
    "    #U_map[(tuple(outcome_2[i]),tuple(outcome_1[i]))] = (compute_U(outcome_1[i],'Jack'),compute_U(outcome_2[i],'Bill'))\n",
    "    U_inverse_map[(compute_U(outcome_1[i],'Bill'),compute_U(outcome_2[i],'Jack'))].append( (tuple(outcome_1[i]),tuple(outcome_2[i])) ) \n",
    "    U_inverse_map[(compute_U(outcome_1[i],'Jack'),compute_U(outcome_2[i],'Bill'))].append( (tuple(outcome_2[i]),tuple(outcome_1[i])) )\n",
    "\n",
    "phase_space = []\n",
    "#phase_space contiene tutte le possibili coppie U_bill, U_jack\n",
    "for key in U_inverse_map:\n",
    "    phase_space.append(key)\n",
    "\n",
    "#print(phase_space)\n",
    "\n",
    "u_bill=[]\n",
    "u_jack=[]\n",
    "for el in phase_space:\n",
    "    u_bill.append(el[0])\n",
    "    u_jack.append(el[1])\n",
    "plt.scatter(u_jack, u_bill)\n",
    "\n",
    "#4. Find maximum\n",
    "max=0\n",
    "coord = (None,None)\n",
    "for u_bill_, u_jack_ in phase_space:\n",
    "    if (u_bill_*u_jack_)> max:\n",
    "        max=u_bill_*u_jack_\n",
    "        coord = (u_bill_,u_jack_)\n",
    "print(\"****\")\n",
    "print(\"Max value for u_bill * u_jac :*\",max)\n",
    "print(\"The max is found when utilities are: \",coord)\n",
    "plt.scatter(coord[0],coord[1], color=\"r\")\n",
    "print(\"The configurations of goods for Bill/Jack resulting in the above utility are:\")\n",
    "print(U_inverse_map[coord])\n",
    "# La soluzione è unica nello spazio delle utilità, non nello spazio dei beni\n",
    "\n",
    "for goods_outcomes in U_inverse_map[coord]:\n",
    "    #print(goods_outcomes[0], goods_outcomes[1])\n",
    "    print(\"Bill ha dato a Jack: \",set(goods_outcomes[1]) - set(Jack_goods_ini))\n",
    "    print(\"Jack ha dato a Bill: \",set(goods_outcomes[0]) - set(Bill_goods_ini))\n",
    "\n",
    "    \n",
    "plt.figure()\n",
    "plt.scatter(u_jack, u_bill)\n",
    "## create parabolas\n",
    "x=[]\n",
    "y=[]\n",
    "for i in range(1,25):\n",
    "    x.append(i)\n",
    "    y.append(60./i)\n",
    "plt.scatter(x,y, color='green')\n",
    "plt.scatter(coord[0],coord[1], color=\"r\")\n",
    "\n",
    "\n",
    "    \n",
    "    \n"
   ]
  },
  {
   "cell_type": "code",
   "execution_count": null,
   "metadata": {},
   "outputs": [],
   "source": []
  }
 ],
 "metadata": {
  "kernelspec": {
   "display_name": "Python 3",
   "language": "python",
   "name": "python3"
  },
  "language_info": {
   "codemirror_mode": {
    "name": "ipython",
    "version": 3
   },
   "file_extension": ".py",
   "mimetype": "text/x-python",
   "name": "python",
   "nbconvert_exporter": "python",
   "pygments_lexer": "ipython3",
   "version": "3.7.4"
  }
 },
 "nbformat": 4,
 "nbformat_minor": 2
}
